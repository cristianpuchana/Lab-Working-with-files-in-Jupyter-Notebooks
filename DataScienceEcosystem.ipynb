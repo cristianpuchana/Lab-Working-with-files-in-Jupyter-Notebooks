{
 "cells": [
  {
   "cell_type": "markdown",
   "id": "d35abab0",
   "metadata": {},
   "source": [
    "# **Data Science Tools and Ecosystem**\n"
   ]
  },
  {
   "cell_type": "markdown",
   "id": "b28237d1",
   "metadata": {},
   "source": [
    "## In this notebook, Data Science Tools and Ecosystem are summarized."
   ]
  },
  {
   "cell_type": "markdown",
   "id": "1d4cd87f",
   "metadata": {},
   "source": [
    "**Objectives:**\n",
    "- List the most popular languages for data science\n",
    "- List the most commonly used libraries for data Science\n",
    "- List the most popular tools for data science\n",
    "- Demonstrate basic aritmethic operations"
   ]
  },
  {
   "cell_type": "markdown",
   "id": "b2641f24",
   "metadata": {},
   "source": [
    "Some of the popular languages that Data Scientists use are:\n",
    "1.  Python\n",
    "2.  R\n",
    "3.  SQL\n",
    "4.  Julia"
   ]
  },
  {
   "cell_type": "markdown",
   "id": "156357a0",
   "metadata": {},
   "source": [
    "Some of the commonly used libraries used by Data Scientists include:\n",
    "1. Pandas\n",
    "2. NumPy\n",
    "3. Plotly\n",
    "4. scikit-learn\n",
    "5. TensorFlow"
   ]
  },
  {
   "cell_type": "markdown",
   "id": "01aef367",
   "metadata": {},
   "source": [
    "|Data Science Tools|\n",
    "------------------\n",
    "|Jupyter Notebook|\n",
    "|VS Code|\n",
    "|Hadoop|\n",
    "|Apache Spark|"
   ]
  },
  {
   "cell_type": "markdown",
   "id": "06172ab8",
   "metadata": {},
   "source": [
    "### Below are a few examples of evaluating arithmetic expressions in Python"
   ]
  },
  {
   "cell_type": "code",
   "execution_count": 19,
   "id": "ad41dae4",
   "metadata": {},
   "outputs": [
    {
     "name": "stdout",
     "output_type": "stream",
     "text": [
      "17\n"
     ]
    }
   ],
   "source": [
    "#This a simple arithmetic expression to mutiply then add integers\n",
    "print((3*4)+5)"
   ]
  },
  {
   "cell_type": "code",
   "execution_count": 20,
   "id": "c75f1df7",
   "metadata": {},
   "outputs": [
    {
     "name": "stdout",
     "output_type": "stream",
     "text": [
      "3.33\n"
     ]
    }
   ],
   "source": [
    "#This will convert 200 minutes to hours by diving by 60\n",
    "print(round(200/60, 2))"
   ]
  },
  {
   "cell_type": "markdown",
   "id": "ebcd9951",
   "metadata": {},
   "source": [
    "## Author\n",
    "Cristian Puchana"
   ]
  }
 ],
 "metadata": {
  "kernelspec": {
   "display_name": "Python 3",
   "language": "python",
   "name": "python3"
  },
  "language_info": {
   "codemirror_mode": {
    "name": "ipython",
    "version": 3
   },
   "file_extension": ".py",
   "mimetype": "text/x-python",
   "name": "python",
   "nbconvert_exporter": "python",
   "pygments_lexer": "ipython3",
   "version": "3.9.6"
  }
 },
 "nbformat": 4,
 "nbformat_minor": 5
}
